{
 "cells": [
  {
   "cell_type": "markdown",
   "id": "a04fe686",
   "metadata": {},
   "source": [
    "##### don't standardize the data of ols model to get the same predictions as that of simple linear regression"
   ]
  },
  {
   "cell_type": "code",
   "execution_count": 28,
   "id": "89aca746",
   "metadata": {},
   "outputs": [],
   "source": [
    "import pandas as pd\n",
    "import matplotlib.pyplot as plt\n",
    "import numpy as np"
   ]
  },
  {
   "cell_type": "code",
   "execution_count": 19,
   "id": "91dae299",
   "metadata": {},
   "outputs": [],
   "source": [
    "df=pd.read_csv('height-weight(DATASET).csv')"
   ]
  },
  {
   "cell_type": "code",
   "execution_count": 20,
   "id": "4dfc4d21",
   "metadata": {},
   "outputs": [
    {
     "data": {
      "text/html": [
       "<div>\n",
       "<style scoped>\n",
       "    .dataframe tbody tr th:only-of-type {\n",
       "        vertical-align: middle;\n",
       "    }\n",
       "\n",
       "    .dataframe tbody tr th {\n",
       "        vertical-align: top;\n",
       "    }\n",
       "\n",
       "    .dataframe thead th {\n",
       "        text-align: right;\n",
       "    }\n",
       "</style>\n",
       "<table border=\"1\" class=\"dataframe\">\n",
       "  <thead>\n",
       "    <tr style=\"text-align: right;\">\n",
       "      <th></th>\n",
       "      <th>Weight</th>\n",
       "      <th>Height</th>\n",
       "    </tr>\n",
       "  </thead>\n",
       "  <tbody>\n",
       "    <tr>\n",
       "      <th>0</th>\n",
       "      <td>45</td>\n",
       "      <td>120</td>\n",
       "    </tr>\n",
       "    <tr>\n",
       "      <th>1</th>\n",
       "      <td>58</td>\n",
       "      <td>135</td>\n",
       "    </tr>\n",
       "    <tr>\n",
       "      <th>2</th>\n",
       "      <td>48</td>\n",
       "      <td>123</td>\n",
       "    </tr>\n",
       "    <tr>\n",
       "      <th>3</th>\n",
       "      <td>60</td>\n",
       "      <td>145</td>\n",
       "    </tr>\n",
       "    <tr>\n",
       "      <th>4</th>\n",
       "      <td>70</td>\n",
       "      <td>160</td>\n",
       "    </tr>\n",
       "  </tbody>\n",
       "</table>\n",
       "</div>"
      ],
      "text/plain": [
       "   Weight  Height\n",
       "0      45     120\n",
       "1      58     135\n",
       "2      48     123\n",
       "3      60     145\n",
       "4      70     160"
      ]
     },
     "execution_count": 20,
     "metadata": {},
     "output_type": "execute_result"
    }
   ],
   "source": [
    "df.head()"
   ]
  },
  {
   "cell_type": "code",
   "execution_count": 21,
   "id": "21a59e41",
   "metadata": {},
   "outputs": [
    {
     "name": "stdout",
     "output_type": "stream",
     "text": [
      "    Weight\n",
      "0       45\n",
      "1       58\n",
      "2       48\n",
      "3       60\n",
      "4       70\n",
      "5       78\n",
      "6       80\n",
      "7       90\n",
      "8       95\n",
      "9       78\n",
      "10      82\n",
      "11      95\n",
      "12     105\n",
      "13     100\n",
      "14      85\n",
      "15      78\n",
      "16      50\n",
      "17      65\n",
      "18      76\n",
      "19      87\n",
      "20      45\n",
      "21      56\n",
      "22      72\n",
      "<class 'pandas.core.frame.DataFrame'>\n"
     ]
    },
    {
     "data": {
      "text/plain": [
       "(23, 1)"
      ]
     },
     "execution_count": 21,
     "metadata": {},
     "output_type": "execute_result"
    }
   ],
   "source": [
    "Y_dataframe=df[['Weight']]  ## Independent features should be data frame or 2-D array\n",
    "print(Y_dataframe)\n",
    "print(type(Y_dataframe))\n",
    "np.array(Y_dataframe).shape"
   ]
  },
  {
   "cell_type": "code",
   "execution_count": 22,
   "id": "fb395ebb",
   "metadata": {},
   "outputs": [],
   "source": [
    "Z=df['Height'] "
   ]
  },
  {
   "cell_type": "code",
   "execution_count": 23,
   "id": "b7a3d166",
   "metadata": {},
   "outputs": [],
   "source": [
    "## Train Test Split\n",
    "from sklearn.model_selection import train_test_split"
   ]
  },
  {
   "cell_type": "code",
   "execution_count": 24,
   "id": "27024178",
   "metadata": {},
   "outputs": [],
   "source": [
    "## random_state essentially seeds the random number generator, ensuring that if you use the same random_state value, \n",
    "# you'll get the same split every time, making your results reproducible. \n",
    "X_train,X_Test,y_train,y_test=train_test_split(Y_dataframe,Z,test_size=0.25,random_state=42)"
   ]
  },
  {
   "cell_type": "code",
   "execution_count": 25,
   "id": "2accb8f2",
   "metadata": {},
   "outputs": [],
   "source": [
    "import statsmodels.api as sm"
   ]
  },
  {
   "cell_type": "code",
   "execution_count": 26,
   "id": "e06e3ff4",
   "metadata": {},
   "outputs": [],
   "source": [
    "model=sm.OLS(y_train,X_train).fit()"
   ]
  },
  {
   "cell_type": "code",
   "execution_count": 27,
   "id": "1bf1eca1",
   "metadata": {},
   "outputs": [
    {
     "name": "stdout",
     "output_type": "stream",
     "text": [
      "15    164.134205\n",
      "9     164.134205\n",
      "0      94.692811\n",
      "8     199.907045\n",
      "17    136.778504\n",
      "12    220.949891\n",
      "dtype: float64\n"
     ]
    }
   ],
   "source": [
    "prediction=model.predict(X_Test)\n",
    "print(prediction)"
   ]
  }
 ],
 "metadata": {
  "kernelspec": {
   "display_name": "base",
   "language": "python",
   "name": "python3"
  },
  "language_info": {
   "codemirror_mode": {
    "name": "ipython",
    "version": 3
   },
   "file_extension": ".py",
   "mimetype": "text/x-python",
   "name": "python",
   "nbconvert_exporter": "python",
   "pygments_lexer": "ipython3",
   "version": "3.12.4"
  }
 },
 "nbformat": 4,
 "nbformat_minor": 5
}
